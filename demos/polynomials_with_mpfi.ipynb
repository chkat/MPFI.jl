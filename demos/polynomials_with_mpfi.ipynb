{
 "cells": [
  {
   "cell_type": "code",
   "execution_count": 1,
   "metadata": {},
   "outputs": [],
   "source": [
    "include(\"../Modules/MPFI/mpfi.jl\")\n",
    "using .mpfi"
   ]
  },
  {
   "cell_type": "code",
   "execution_count": 2,
   "metadata": {},
   "outputs": [
    {
     "data": {
      "text/plain": [
       "[3.1416, 3.1416]"
      ]
     },
     "metadata": {},
     "output_type": "display_data"
    }
   ],
   "source": [
    "setprecision(12)\n",
    "a = BigInterval(pi)"
   ]
  },
  {
   "cell_type": "code",
   "execution_count": 3,
   "metadata": {},
   "outputs": [
    {
     "data": {
      "text/plain": [
       "[3.1415926535897931, 3.1415926535897931]"
      ]
     },
     "metadata": {},
     "output_type": "display_data"
    }
   ],
   "source": [
    "setprecision(52)\n",
    "b = BigInterval(pi)\n",
    "\n",
    "\n"
   ]
  },
  {
   "cell_type": "code",
   "execution_count": 4,
   "metadata": {},
   "outputs": [
    {
     "data": {
      "text/plain": [
       "12"
      ]
     },
     "metadata": {},
     "output_type": "display_data"
    }
   ],
   "source": [
    "precision(a)\n"
   ]
  },
  {
   "cell_type": "code",
   "execution_count": 5,
   "metadata": {},
   "outputs": [],
   "source": [
    "using MultivariatePolynomials, DynamicPolynomials"
   ]
  },
  {
   "cell_type": "code",
   "execution_count": 6,
   "metadata": {},
   "outputs": [
    {
     "data": {
      "text/plain": [
       "(x, y, z)"
      ]
     },
     "metadata": {},
     "output_type": "display_data"
    }
   ],
   "source": [
    "@polyvar x y z"
   ]
  },
  {
   "cell_type": "code",
   "execution_count": 7,
   "metadata": {},
   "outputs": [
    {
     "data": {
      "text/latex": [
       "$$ ([1.0, 2.0]) + ([3.5, 3.5])x^{2} + ([8.0, 8.0])x^{2}y^{4} $$"
      ],
      "text/plain": [
       "([1.0, 2.0]) + ([3.5, 3.5])x² + ([8.0, 8.0])x²y⁴"
      ]
     },
     "metadata": {},
     "output_type": "display_data"
    }
   ],
   "source": [
    "g = BigInterval(3.5) * x^2 + BigInterval(8) * y^4 * x^2 + BigInterval(1, 2)"
   ]
  },
  {
   "cell_type": "code",
   "execution_count": 8,
   "metadata": {},
   "outputs": [
    {
     "data": {
      "text/latex": [
       "$$ ([1.0, 4.0]) + ([7.0, 14.0])x^{2} + ([12.25, 12.25])x^{4} + ([16.0, 32.0])x^{2}y^{4} + ([56.0, 56.0])x^{4}y^{4} + ([64.0, 64.0])x^{4}y^{8} $$"
      ],
      "text/plain": [
       "([1.0, 4.0]) + ([7.0, 14.0])x² + ([12.25, 12.25])x⁴ + ([16.0, 32.0])x²y⁴ + ([56.0, 56.0])x⁴y⁴ + ([64.0, 64.0])x⁴y⁸"
      ]
     },
     "metadata": {},
     "output_type": "display_data"
    }
   ],
   "source": [
    "g * g "
   ]
  },
  {
   "cell_type": "code",
   "execution_count": 9,
   "metadata": {},
   "outputs": [
    {
     "data": {
      "text/latex": [
       "$$ ([2.0, 4.0]) + ([7.0, 7.0])x^{2} + ([16.0, 16.0])x^{2}y^{4} $$"
      ],
      "text/plain": [
       "([2.0, 4.0]) + ([7.0, 7.0])x² + ([16.0, 16.0])x²y⁴"
      ]
     },
     "metadata": {},
     "output_type": "display_data"
    }
   ],
   "source": [
    "g + g "
   ]
  },
  {
   "cell_type": "code",
   "execution_count": 10,
   "metadata": {},
   "outputs": [
    {
     "data": {
      "text/latex": [
       "$$ ([1.0, 4.0]) + ([7.0, 14.0])x^{2} + ([12.25, 12.25])x^{4} + ([16.0, 32.0])x^{2}y^{4} + ([56.0, 56.0])x^{4}y^{4} + ([64.0, 64.0])x^{4}y^{8} $$"
      ],
      "text/plain": [
       "([1.0, 4.0]) + ([7.0, 14.0])x² + ([12.25, 12.25])x⁴ + ([16.0, 32.0])x²y⁴ + ([56.0, 56.0])x⁴y⁴ + ([64.0, 64.0])x⁴y⁸"
      ]
     },
     "metadata": {},
     "output_type": "display_data"
    }
   ],
   "source": [
    "g^2"
   ]
  },
  {
   "cell_type": "code",
   "execution_count": 11,
   "metadata": {},
   "outputs": [
    {
     "data": {
      "text/latex": [
       "$$ ([0.5, 1.0]) + ([1.75, 1.75])x^{2} + ([4.0, 4.0])x^{2}y^{4} $$"
      ],
      "text/plain": [
       "([0.5, 1.0]) + ([1.75, 1.75])x² + ([4.0, 4.0])x²y⁴"
      ]
     },
     "metadata": {},
     "output_type": "display_data"
    }
   ],
   "source": [
    "g/2"
   ]
  },
  {
   "cell_type": "code",
   "execution_count": 12,
   "metadata": {},
   "outputs": [
    {
     "data": {
      "text/latex": [
       "$$ ([7.0, 7.0])x + ([16.0, 16.0])xy^{4} $$"
      ],
      "text/plain": [
       "([7.0, 7.0])x + ([16.0, 16.0])xy⁴"
      ]
     },
     "metadata": {},
     "output_type": "display_data"
    }
   ],
   "source": [
    "MultivariatePolynomials.differentiate(g,x)"
   ]
  },
  {
   "cell_type": "code",
   "execution_count": 13,
   "metadata": {},
   "outputs": [
    {
     "data": {
      "text/latex": [
       "$$ ([32.5, 33.5]) + ([72.0, 72.0])y^{4} $$"
      ],
      "text/plain": [
       "([32.5, 33.5]) + ([72.0, 72.0])y⁴"
      ]
     },
     "metadata": {},
     "output_type": "display_data"
    }
   ],
   "source": [
    "MultivariatePolynomials.subs(g, x => 3)"
   ]
  },
  {
   "cell_type": "code",
   "execution_count": 14,
   "metadata": {},
   "outputs": [
    {
     "data": {
      "text/latex": [
       "$$ ([32.5, 33.5]) + ([72.0, 72.0])y^{4} $$"
      ],
      "text/plain": [
       "([32.5, 33.5]) + ([72.0, 72.0])y⁴"
      ]
     },
     "metadata": {},
     "output_type": "display_data"
    }
   ],
   "source": [
    "MultivariatePolynomials.subs(g, x => BigFloat(3))"
   ]
  },
  {
   "cell_type": "code",
   "execution_count": null,
   "metadata": {},
   "outputs": [],
   "source": [
    "# TypeError because even though Int64 <: Number is true, Term{Int64} <: Term{Number} is false\n",
    "# https://docs.julialang.org/en/v1/manual/types/#Parametric-Composite-Types\n",
    "# MultivariatePolynomials.subs(g, x => BigInterval(3))"
   ]
  },
  {
   "cell_type": "code",
   "execution_count": null,
   "metadata": {},
   "outputs": [],
   "source": []
  }
 ],
 "metadata": {
  "kernelspec": {
   "display_name": "Julia 1.9.3",
   "language": "julia",
   "name": "julia-1.9"
  },
  "language_info": {
   "file_extension": ".jl",
   "mimetype": "application/julia",
   "name": "julia",
   "version": "1.9.3"
  }
 },
 "nbformat": 4,
 "nbformat_minor": 2
}
