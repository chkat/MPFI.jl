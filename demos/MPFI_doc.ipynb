{
 "cells": [
  {
   "cell_type": "markdown",
   "metadata": {},
   "source": [
    "# MPFI Module Documentation\n",
    "\n",
    "This module provides support for arbitrary precision interval arithmetic using the MPFI library. The `BigInterval` type represents an interval with arbitrary precision floating-point endpoints."
   ]
  },
  {
   "cell_type": "markdown",
   "metadata": {},
   "source": [
    "## Installation\n",
    "   \n",
    "To use the `mpfi` module, you need to have the MPFI library installed on your system. Ensure that the shared library is available and set the `LIB_PATH` variable to point to the location of your shared library.\n",
    "  "
   ]
  },
  {
   "cell_type": "code",
   "execution_count": 1,
   "metadata": {},
   "outputs": [],
   "source": [
    "include(\"../src/mpfi.jl\")\n",
    "using .mpfi"
   ]
  },
  {
   "cell_type": "markdown",
   "metadata": {},
   "source": [
    "## Basic Usage\n",
    "\n",
    "The type `BigInterval` represents an arbitrary precision interval floating point number.\n",
    "It corresponds to the C-type `mpfi_t`."
   ]
  },
  {
   "cell_type": "markdown",
   "metadata": {},
   "source": [
    "### Constructors:\n",
    "You can create intervals using various constructors. The precision is by default equal to `precision(BigFloat)`.\n",
    "Here are some examples:\n"
   ]
  },
  {
   "cell_type": "code",
   "execution_count": 2,
   "metadata": {},
   "outputs": [
    {
     "name": "stdout",
     "output_type": "stream",
     "text": [
      "a = BigInterval(\"1.0\") = [1.0, 1.0]\n",
      "b = BigInterval(1.0) = [1.0, 1.0]\n",
      "c = BigInterval(1, 2) = [1.0, 2.0]\n",
      "d = BigInterval(BigFloat(1.0), BigFloat(2.0)) = [1.0, 2.0]\n",
      "e = BigInterval(BigInt(1), BigInt(2)) = [1.0, 2.0]\n",
      "f = BigInterval(2.0, 3.0) = [2.0, 3.0]\n",
      "zero(BigInterval) = [0.0, -0.0]\n",
      "one(BigInterval) = [1.0, 1.0]\n"
     ]
    },
    {
     "data": {
      "text/plain": [
       "[1.0, 1.0]"
      ]
     },
     "metadata": {},
     "output_type": "display_data"
    }
   ],
   "source": [
    "@show a = BigInterval(\"1.0\")\n",
    "@show b = BigInterval(1.0)\n",
    "@show c = BigInterval(1, 2)\n",
    "@show d = BigInterval(BigFloat(1.0), BigFloat(2.0))\n",
    "@show e = BigInterval(BigInt(1), BigInt(2))\n",
    "@show f = BigInterval(2.0, 3.0)\n",
    "@show zero(BigInterval)\n",
    "@show one(BigInterval)"
   ]
  },
  {
   "cell_type": "markdown",
   "metadata": {},
   "source": [
    "Alternatively, you can use an optional argument to set a specific bit-precision in all the constructor functions:"
   ]
  },
  {
   "cell_type": "code",
   "execution_count": 3,
   "metadata": {},
   "outputs": [
    {
     "name": "stdout",
     "output_type": "stream",
     "text": [
      "BigInterval(1 // 3; precision = 23) = [0.33333331, 0.33333338]\n",
      "BigInterval(1 / 3; precision = 128) = [0.3333333333333333148296162562473909929394, 0.3333333333333333148296162562473909929395]\n"
     ]
    },
    {
     "data": {
      "text/plain": [
       "[0.3333333333333333148296162562473909929394, 0.3333333333333333148296162562473909929395]"
      ]
     },
     "metadata": {},
     "output_type": "display_data"
    }
   ],
   "source": [
    "@show BigInterval(1//3;precision=23) # \"1//3\" is Rational\n",
    "@show BigInterval(1/3;precision=128) # \"1/3\" is a Float64"
   ]
  },
  {
   "cell_type": "code",
   "execution_count": 4,
   "metadata": {},
   "outputs": [
    {
     "name": "stdout",
     "output_type": "stream",
     "text": [
      "Default precision BigInterval: 256\n",
      "128-bit precision BigInterval: 128\n"
     ]
    }
   ],
   "source": [
    "# Default precision\n",
    "bi = BigInterval();\n",
    "println(\"Default precision BigInterval: \", precision(bi))\n",
    "\n",
    "# Specified precision\n",
    "bi_128 = BigInterval(precision=128);\n",
    "println(\"128-bit precision BigInterval: \", precision(bi_128))"
   ]
  },
  {
   "cell_type": "markdown",
   "metadata": {},
   "source": [
    "Note that the default precision for `BigFloat` can be changed through:\n",
    "```julia \n",
    "setprecision(128)\n",
    "```\n",
    "and for a specific `BigInterval` by using the function:\n",
    "```julia \n",
    "setprecision(x::BigInterval, precision::Integer)\n",
    "```"
   ]
  },
  {
   "cell_type": "markdown",
   "metadata": {},
   "source": [
    "### Basic access functions"
   ]
  },
  {
   "cell_type": "markdown",
   "metadata": {},
   "source": [
    "- ```left(x::BigInterval)```\n",
    "Returns the left endpoint of the interval `x` as a `BigFloat`.\n",
    "\n",
    "- ```right(x::BigInterval)```\n",
    "Returns the right endpoint of the interval `x` as a `BigFloat`."
   ]
  },
  {
   "cell_type": "code",
   "execution_count": 5,
   "metadata": {},
   "outputs": [
    {
     "name": "stdout",
     "output_type": "stream",
     "text": [
      "Left endpoint: 1.0\n",
      "Right endpoint: 2.0\n"
     ]
    }
   ],
   "source": [
    "bi = BigInterval(1.0, 2.0)\n",
    "println(\"Left endpoint: \", left(bi))\n",
    "println(\"Right endpoint: \", right(bi))"
   ]
  },
  {
   "cell_type": "markdown",
   "metadata": {},
   "source": [
    "### Arithmetic Operations   "
   ]
  },
  {
   "cell_type": "markdown",
   "metadata": {},
   "source": [
    "The `mpfi` module supports basic arithmetic operations between intervals and other numeric types. These operations include addition, subtraction, multiplication, and division.\n"
   ]
  },
  {
   "cell_type": "code",
   "execution_count": 6,
   "metadata": {},
   "outputs": [
    {
     "name": "stdout",
     "output_type": "stream",
     "text": [
      "Sum: [4.5, 6.5]\n",
      "Difference: [-2.5, -0.5]\n",
      "Product: [3.5, 10.5]\n",
      "Quotient: [0.285705, 0.857148]\n"
     ]
    }
   ],
   "source": [
    "setprecision(15)\n",
    "x = BigInterval(1,3)\n",
    "y = BigInterval(\"3.5\")\n",
    "\n",
    "sum = x + y\n",
    "diff = x - y\n",
    "prod = x * y\n",
    "quot = x / y\n",
    "\n",
    "println(\"Sum: \", sum)\n",
    "println(\"Difference: \", diff)\n",
    "println(\"Product: \", prod)\n",
    "println(\"Quotient: \", quot)"
   ]
  },
  {
   "cell_type": "markdown",
   "metadata": {},
   "source": [
    "### Set operations\n",
    "\n",
    "- is_inside, intersect, union, bisect, blow"
   ]
  },
  {
   "cell_type": "code",
   "execution_count": 7,
   "metadata": {},
   "outputs": [
    {
     "name": "stdout",
     "output_type": "stream",
     "text": [
      "isempty(x) = false\n",
      "isinf(x) = false\n",
      "isbounded(x) = true\n",
      "isnan(x) = false\n"
     ]
    },
    {
     "data": {
      "text/plain": [
       "false"
      ]
     },
     "metadata": {},
     "output_type": "display_data"
    }
   ],
   "source": [
    "@show isempty(x)\n",
    "@show isinf(x)\n",
    "@show isbounded(x)\n",
    "@show isnan(x)\n"
   ]
  },
  {
   "cell_type": "markdown",
   "metadata": {},
   "source": [
    "### Various interval functions: \n",
    "- diam_abs, diam_rel, diam, mag, mig, mid, hypot"
   ]
  },
  {
   "cell_type": "markdown",
   "metadata": {},
   "source": [
    "### Other Functions\n",
    "\n",
    "The `mpfi` module also supports other mathematical functions such as trigonometric, logarithmic, and exponential functions."
   ]
  },
  {
   "cell_type": "code",
   "execution_count": 8,
   "metadata": {},
   "outputs": [
    {
     "data": {
      "text/plain": [
       "[1.0, 1.44227]"
      ]
     },
     "metadata": {},
     "output_type": "display_data"
    }
   ],
   "source": [
    "sin(x)\n",
    "cos(x)\n",
    "tan(x)\n",
    "log(x)\n",
    "exp(x)\n",
    "sqrt(x)\n",
    "cbrt(x)"
   ]
  },
  {
   "cell_type": "markdown",
   "metadata": {},
   "source": [
    "### Constants\n",
    "\n",
    "You can create intervals representing common mathematical constants such as π and Euler's number."
   ]
  },
  {
   "cell_type": "code",
   "execution_count": 9,
   "metadata": {},
   "outputs": [
    {
     "name": "stdout",
     "output_type": "stream",
     "text": [
      "π interval: [3.14, 3.157]\n",
      "ℯ interval: [0.577209, 0.57724]\n"
     ]
    }
   ],
   "source": [
    "pi_interval = BigInterval(π;precision=8)\n",
    "e_interval = BigInterval(ℯ)\n",
    "\n",
    "println(\"π interval: \", pi_interval)\n",
    "println(\"ℯ interval: \", e_interval)"
   ]
  },
  {
   "cell_type": "markdown",
   "metadata": {},
   "source": [
    "### Comparison Operations\n",
    "\n",
    "The `mpfi` module provides comparison operations for intervals, including equality, inequality, and ordering."
   ]
  },
  {
   "cell_type": "markdown",
   "metadata": {},
   "source": [
    "There are two functions that compare intervals with zero, each serving different purposes:\n",
    "\n",
    "- `iszero(x::BigInterval)`: Checks if the interval `x` is exactly zero.\n",
    "- `has_zero(x::BigInterval)`: Checks if the interval `x` contains zero within its bounds."
   ]
  },
  {
   "cell_type": "code",
   "execution_count": 10,
   "metadata": {},
   "outputs": [
    {
     "name": "stdout",
     "output_type": "stream",
     "text": [
      "iszero(bi1): false\n",
      "has_zero(bi1): true\n",
      "bi1 == 0: false\n",
      "iszero(bi2): true\n",
      "has_zero(bi2): true\n",
      "bi2 == 0: true\n",
      "iszero(bi3): false\n",
      "has_zero(bi3): false\n",
      "bi3 == 0: false\n"
     ]
    }
   ],
   "source": [
    "bi1 = BigInterval(-1.0, 1.0)\n",
    "bi2 = BigInterval(0.0, 0.0)\n",
    "bi3 = BigInterval(1.0, 2.0)\n",
    "\n",
    "println(\"iszero(bi1): \", iszero(bi1)) # false\n",
    "println(\"has_zero(bi1): \", has_zero(bi1)) # true\n",
    "println(\"bi1 == 0: \", bi1 == 0) # false\n",
    "\n",
    "println(\"iszero(bi2): \", iszero(bi2)) # true\n",
    "println(\"has_zero(bi2): \", has_zero(bi2)) # true\n",
    "println(\"bi2 == 0: \", bi2 == 0) # true\n",
    "\n",
    "println(\"iszero(bi3): \", iszero(bi3)) # false\n",
    "println(\"has_zero(bi3): \", has_zero(bi3)) # false\n",
    "println(\"bi3 == 0: \", bi3 == 0) # false"
   ]
  },
  {
   "cell_type": "code",
   "execution_count": 11,
   "metadata": {},
   "outputs": [
    {
     "name": "stdout",
     "output_type": "stream",
     "text": [
      "bi1 > BigInterval(0.0, 0.5) = false\n",
      "bi2 > BigInterval(-1) = true\n"
     ]
    },
    {
     "data": {
      "text/plain": [
       "true"
      ]
     },
     "metadata": {},
     "output_type": "display_data"
    }
   ],
   "source": [
    "bi1 = BigInterval(-1.0, 1.0)\n",
    "bi2 = BigInterval(1.0, 2.0)\n",
    "@show bi1 > BigInterval(0.0,0.5)\n",
    "@show bi2 > BigInterval(-1)\n"
   ]
  },
  {
   "cell_type": "markdown",
   "metadata": {},
   "source": [
    "## Using with DynamicPolynomials.jl"
   ]
  },
  {
   "cell_type": "markdown",
   "metadata": {},
   "source": [
    "The `mpfi` module can be used in combination with `DynamicPolynomials.jl` to construct polynomials with interval coefficients and perform basic operations with them (addition, multiplication, substitution, differentiation):"
   ]
  },
  {
   "cell_type": "code",
   "execution_count": 12,
   "metadata": {},
   "outputs": [
    {
     "data": {
      "text/latex": [
       "$$ ([8.0, 9.0])x^{2}y^{4} + ([3.5, 3.5])x^{2} + ([1.0, 2.0]) $$"
      ],
      "text/plain": [
       "([8.0, 9.0])x²y⁴ + ([3.5, 3.5])x² + ([1.0, 2.0])"
      ]
     },
     "metadata": {},
     "output_type": "display_data"
    }
   ],
   "source": [
    "using DynamicPolynomials\n",
    "@polyvar x y \n",
    "setprecision(14)\n",
    "p = BigInterval(3.5) * x^2 + BigInterval(8, 9) * y^4 * x^2 + BigInterval(1, 2)"
   ]
  },
  {
   "cell_type": "code",
   "execution_count": 13,
   "metadata": {},
   "outputs": [
    {
     "name": "stdout",
     "output_type": "stream",
     "text": [
      "p * p = ([64.0, 81.0])x⁴y⁸ + ([56.0, 63.0])x⁴y⁴ + ([16.0, 36.0])x²y⁴ + ([12.25, 12.25])x⁴ + ([7.0, 14.0])x² + ([1.0, 4.0])\n",
      "p + p = ([16.0, 18.0])x²y⁴ + ([7.0, 7.0])x² + ([2.0, 4.0])\n",
      "differentiate(p, x) = ([16.0, 18.0])xy⁴ + ([7.0, 7.0])x\n",
      "subs(p, x => 3) = ([72.0, 81.0])y⁴ + ([32.5, 33.5])\n",
      "subs(p, x => BigInterval(1 // 3)) = ([0.888732, 1.00013])y⁴ + ([1.38879, 2.38917])\n"
     ]
    },
    {
     "data": {
      "text/latex": [
       "$$ ([0.888732, 1.00013])y^{4} + ([1.38879, 2.38917]) $$"
      ],
      "text/plain": [
       "([0.888732, 1.00013])y⁴ + ([1.38879, 2.38917])"
      ]
     },
     "metadata": {},
     "output_type": "display_data"
    }
   ],
   "source": [
    "@show p * p\n",
    "@show p + p  \n",
    "@show differentiate(p,x)\n",
    "@show subs(p, x => 3)\n",
    "@show subs(p, x => BigInterval(1//3))\n"
   ]
  },
  {
   "cell_type": "code",
   "execution_count": null,
   "metadata": {},
   "outputs": [],
   "source": []
  }
 ],
 "metadata": {
  "kernelspec": {
   "display_name": "Julia 1.9.3",
   "language": "julia",
   "name": "julia-1.9"
  },
  "language_info": {
   "file_extension": ".jl",
   "mimetype": "application/julia",
   "name": "julia",
   "version": "1.9.3"
  }
 },
 "nbformat": 4,
 "nbformat_minor": 4
}
